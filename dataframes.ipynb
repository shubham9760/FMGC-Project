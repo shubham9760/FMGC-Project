{
 "cells": [
  {
   "cell_type": "code",
   "execution_count": 1,
   "metadata": {},
   "outputs": [],
   "source": [
    "import pandas as pd\n",
    "\n",
    "df_dim_customer = pd.read_csv(r\"F:\\Self Learning\\Code_basics_projects\\C2 input for participants 1\\FMGC\\dim_customers.csv\")\n",
    "df_dim_date = pd.read_csv(r\"F:\\Self Learning\\Code_basics_projects\\C2 input for participants 1\\FMGC\\dim_date.csv\")\n",
    "df_dim_products = pd.read_csv(r\"F:\\Self Learning\\Code_basics_projects\\C2 input for participants 1\\FMGC\\dim_products.csv\")\n",
    "df_dim_targets_orders = pd.read_csv(r\"F:\\Self Learning\\Code_basics_projects\\C2 input for participants 1\\FMGC\\dim_targets_orders.csv\")\n",
    "df_fact_order_lines = pd.read_csv(r\"F:\\Self Learning\\Code_basics_projects\\C2 input for participants 1\\FMGC\\fact_order_lines.csv\")"
   ]
  },
  {
   "cell_type": "code",
   "execution_count": 2,
   "metadata": {},
   "outputs": [],
   "source": [
    "df_dim_customer.to_pickle(\"df_dim_customer.pkl\")\n",
    "df_dim_date.to_pickle(\"df_dim_date.pkl\")\n",
    "df_dim_products.to_pickle(\"df_dim_products.pkl\")\n",
    "df_dim_targets_orders.to_pickle(\"df_dim_targets_orders.pkl\")\n",
    "df_fact_order_lines.to_pickle(\"df_fact_order_lines.pkl\")"
   ]
  }
 ],
 "metadata": {
  "kernelspec": {
   "display_name": "myvenv",
   "language": "python",
   "name": "python3"
  },
  "language_info": {
   "codemirror_mode": {
    "name": "ipython",
    "version": 3
   },
   "file_extension": ".py",
   "mimetype": "text/x-python",
   "name": "python",
   "nbconvert_exporter": "python",
   "pygments_lexer": "ipython3",
   "version": "3.11.7"
  }
 },
 "nbformat": 4,
 "nbformat_minor": 2
}
